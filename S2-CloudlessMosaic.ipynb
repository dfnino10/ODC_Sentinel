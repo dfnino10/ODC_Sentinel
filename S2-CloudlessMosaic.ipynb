{
 "cells": [
  {
   "cell_type": "code",
   "execution_count": 3,
   "metadata": {},
   "outputs": [],
   "source": [
    "import rasterio\n",
    "from rasterio import plot\n",
    "import numpy as np\n",
    "\n",
    "import warnings\n",
    "warnings.filterwarnings('ignore')\n",
    "warnings.filterwarnings(action='ignore')\n",
    "\n",
    "import datacube\n",
    "\n",
    "\n",
    "%matplotlib inline"
   ]
  },
  {
   "cell_type": "code",
   "execution_count": null,
   "metadata": {},
   "outputs": [],
   "source": []
  },
  {
   "cell_type": "code",
   "execution_count": null,
   "metadata": {},
   "outputs": [],
   "source": [
    "imagesPath = '/origin_storage/S2_L2A_MSI_ARD/'"
   ]
  },
  {
   "cell_type": "code",
   "execution_count": 23,
   "metadata": {},
   "outputs": [],
   "source": [
    "sclImagePath = '/origin_storage/S2_L2A_MSI_ARD/S2A_MSIL2A_20191001T152641_N0213_R025_T18NXM_20191001T194130.SAFE/GRANULE/L2A_T18NXM_A022330_20191001T152641/IMG_DATA/R20m/T18NXM_20191001T152641_SCL_20m.jp2'\n",
    "scl = rasterio.open(sclImagePath, driver = 'JP2OpenJPEG')"
   ]
  },
  {
   "cell_type": "markdown",
   "metadata": {},
   "source": [
    "Sentinel's scene classification map gives the followning classes: \n",
    "\n",
    "<img src=\"./notebookImages/ClassificationClasses.jpg\" alt=\"Classification Classes\" style=\"width: 300px; height=500;\"/>\n"
   ]
  },
  {
   "cell_type": "code",
   "execution_count": 34,
   "metadata": {},
   "outputs": [
    {
     "data": {
      "text/plain": [
       "array([[9, 9, 9, ..., 4, 7, 7],\n",
       "       [9, 9, 9, ..., 7, 5, 5],\n",
       "       [9, 9, 9, ..., 5, 8, 5],\n",
       "       ...,\n",
       "       [9, 9, 9, ..., 0, 0, 0],\n",
       "       [9, 9, 9, ..., 0, 0, 0],\n",
       "       [9, 9, 9, ..., 0, 0, 0]], dtype=uint8)"
      ]
     },
     "execution_count": 34,
     "metadata": {},
     "output_type": "execute_result"
    }
   ],
   "source": [
    "scl.read(1)\n"
   ]
  },
  {
   "cell_type": "code",
   "execution_count": 53,
   "metadata": {},
   "outputs": [
    {
     "data": {
      "text/plain": [
       "array([[False, False, False, ...,  True, False, False],\n",
       "       [False, False, False, ..., False,  True,  True],\n",
       "       [False, False, False, ...,  True, False,  True],\n",
       "       ...,\n",
       "       [False, False, False, ..., False, False, False],\n",
       "       [False, False, False, ..., False, False, False],\n",
       "       [False, False, False, ..., False, False, False]])"
      ]
     },
     "execution_count": 53,
     "metadata": {},
     "output_type": "execute_result"
    }
   ],
   "source": [
    "clouds = (scl.read(1) > 3) == (scl.read(1) < 7)\n",
    "\n",
    "clouds\n"
   ]
  },
  {
   "cell_type": "code",
   "execution_count": null,
   "metadata": {},
   "outputs": [],
   "source": []
  }
 ],
 "metadata": {
  "kernelspec": {
   "display_name": "Python 3",
   "language": "python",
   "name": "python3"
  },
  "language_info": {
   "codemirror_mode": {
    "name": "ipython",
    "version": 3
   },
   "file_extension": ".py",
   "mimetype": "text/x-python",
   "name": "python",
   "nbconvert_exporter": "python",
   "pygments_lexer": "ipython3",
   "version": "3.6.11"
  }
 },
 "nbformat": 4,
 "nbformat_minor": 2
}
